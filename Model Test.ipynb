{
 "cells": [
  {
   "cell_type": "code",
   "execution_count": 1,
   "metadata": {},
   "outputs": [],
   "source": [
    "import numpy as np\n",
    "import pandas as pd\n",
    "import matplotlib.pyplot as plt\n",
    "# Seaborn for visualization\n",
    "import seaborn as sns\n",
    "sns.set(font_scale = 2)\n",
    "\n",
    "# Internal ipython tool for setting figure size\n",
    "from IPython.core.pylabtools import figsize"
   ]
  },
  {
   "cell_type": "markdown",
   "metadata": {},
   "source": [
    "<h1>Data Read </h1>"
   ]
  },
  {
   "cell_type": "code",
   "execution_count": 69,
   "metadata": {},
   "outputs": [],
   "source": [
    "dt = pd.read_excel('Real estate valuation data set.xlsx')\n",
    "data = dt.loc[:,\"X1 transaction date\":\"Y house price of unit area\"]\n",
    "data.head()\n",
    "\n",
    "FE_dt = pd.read_excel('Real estate valuation data set after FE.xlsx')\n",
    "FE_data = FE_dt.loc[:,\"X2 house age\":\"coord_pca2\"]"
   ]
  },
  {
   "cell_type": "code",
   "execution_count": 70,
   "metadata": {},
   "outputs": [
    {
     "name": "stdout",
     "output_type": "stream",
     "text": [
      "<class 'pandas.core.frame.DataFrame'>\n",
      "RangeIndex: 414 entries, 0 to 413\n",
      "Data columns (total 9 columns):\n",
      "X2 house age                              414 non-null float64\n",
      "X3 distance to the nearest MRT station    414 non-null float64\n",
      "X4 number of convenience stores           414 non-null int64\n",
      "X5 latitude                               414 non-null float64\n",
      "X6 longitude                              414 non-null float64\n",
      "Y house price of unit area                414 non-null float64\n",
      "temperature                               414 non-null float64\n",
      "coord_pca1                                414 non-null float64\n",
      "coord_pca2                                414 non-null float64\n",
      "dtypes: float64(8), int64(1)\n",
      "memory usage: 29.2 KB\n"
     ]
    }
   ],
   "source": [
    "FE_data.info()"
   ]
  },
  {
   "cell_type": "code",
   "execution_count": 71,
   "metadata": {},
   "outputs": [],
   "source": [
    "'''---------------------------split data-----------------------------'''\n",
    "train_x = data.sample(frac=0.8,random_state=0)\n",
    "test_x = data.drop(train_x.index)\n",
    "\n",
    "train_xfe = FE_data.sample(frac=0.8,random_state=0)\n",
    "test_xfe = FE_data.drop(train_xfe.index)\n",
    "\n",
    "train_y = train_x.pop('Y house price of unit area')\n",
    "test_y = test_x.pop('Y house price of unit area')\n",
    "\n",
    "train_yfe = train_xfe.pop('Y house price of unit area')\n",
    "test_yfe = test_xfe.pop('Y house price of unit area')\n",
    "\n",
    "#Alpha의 의미??\n",
    "#alpha값을 높이면 계수를 0에 가깝게만들어서 훈련세트의 성능은 나빠지지만,\n",
    "#일반화에는 도움을 줌.\n",
    "al = 1"
   ]
  },
  {
   "cell_type": "markdown",
   "metadata": {},
   "source": [
    "<h1>Correlation</h1>"
   ]
  },
  {
   "cell_type": "code",
   "execution_count": 6,
   "metadata": {},
   "outputs": [
    {
     "data": {
      "text/plain": [
       "Y house price of unit area                1.000000\n",
       "X4 number of convenience stores           0.571005\n",
       "X5 latitude                               0.546307\n",
       "X6 longitude                              0.523287\n",
       "X1 transaction date                       0.087529\n",
       "X2 house age                             -0.210567\n",
       "X3 distance to the nearest MRT station   -0.673613\n",
       "Name: Y house price of unit area, dtype: float64"
      ]
     },
     "execution_count": 6,
     "metadata": {},
     "output_type": "execute_result"
    }
   ],
   "source": [
    "corr_data = data.corr()\n",
    "corr_data[\"Y house price of unit area\"].sort_values(ascending=False)"
   ]
  },
  {
   "cell_type": "markdown",
   "metadata": {},
   "source": [
    "<h5>Feature Engineering</h5>\n",
    "Using Logarithm and SQRT"
   ]
  },
  {
   "cell_type": "code",
   "execution_count": 10,
   "metadata": {},
   "outputs": [],
   "source": [
    "# Select the numeric columns\n",
    "numeric_subset = data.select_dtypes('number')\n",
    "\n",
    "# Create columns with square root and log of numeric columns\n",
    "for col in numeric_subset.columns:\n",
    "    # Skip the mpg column\n",
    "    if col == 'Y house price of unit area':\n",
    "        next\n",
    "    else:\n",
    "        numeric_subset['sqrt_' + col] = np.sqrt(numeric_subset[col])\n",
    "        numeric_subset['log_' + col] = np.log(numeric_subset[col])\n",
    "\n",
    "# Join the two dataframes using concat\n",
    "# Make sure to use axis = 1 to perform a column bind\n",
    "features = numeric_subset\n",
    "\n",
    "# Drop cars without an mpg\n",
    "features = features.dropna(subset = ['Y house price of unit area'])\n",
    "\n",
    "# Find correlations with the building \n",
    "correlations = features.corr()['Y house price of unit area'].dropna().sort_values()\n",
    "\n"
   ]
  },
  {
   "cell_type": "code",
   "execution_count": 11,
   "metadata": {
    "scrolled": true
   },
   "outputs": [
    {
     "data": {
      "text/plain": [
       "log_X3 distance to the nearest MRT station    -0.734339\n",
       "sqrt_X3 distance to the nearest MRT station   -0.729893\n",
       "X3 distance to the nearest MRT station        -0.673613\n",
       "sqrt_X2 house age                             -0.291438\n",
       "log_X2 house age                              -0.244942\n",
       "X2 house age                                  -0.210567\n",
       "X1 transaction date                            0.087529\n",
       "sqrt_X1 transaction date                       0.087529\n",
       "log_X1 transaction date                        0.087530\n",
       "log_X4 number of convenience stores            0.481823\n",
       "Name: Y house price of unit area, dtype: float64"
      ]
     },
     "execution_count": 11,
     "metadata": {},
     "output_type": "execute_result"
    }
   ],
   "source": [
    "correlations.head(10)"
   ]
  },
  {
   "cell_type": "code",
   "execution_count": 12,
   "metadata": {},
   "outputs": [
    {
     "data": {
      "text/plain": [
       "log_X4 number of convenience stores     0.481823\n",
       "X6 longitude                            0.523287\n",
       "sqrt_X6 longitude                       0.523295\n",
       "log_X6 longitude                        0.523304\n",
       "X5 latitude                             0.546307\n",
       "sqrt_X5 latitude                        0.546341\n",
       "log_X5 latitude                         0.546375\n",
       "sqrt_X4 number of convenience stores    0.555806\n",
       "X4 number of convenience stores         0.571005\n",
       "Y house price of unit area              1.000000\n",
       "Name: Y house price of unit area, dtype: float64"
      ]
     },
     "execution_count": 12,
     "metadata": {},
     "output_type": "execute_result"
    }
   ],
   "source": [
    "correlations.tail(10)"
   ]
  },
  {
   "cell_type": "markdown",
   "metadata": {},
   "source": [
    "<h3>Plots</h3>"
   ]
  },
  {
   "cell_type": "code",
   "execution_count": 19,
   "metadata": {},
   "outputs": [],
   "source": [
    "def rmse (yt, yp):\n",
    "    return np.sqrt(np.mean((yt-yp)**2))\n",
    "def mse (yt, yp):\n",
    "    return np.mean((yt-yp)**2)\n",
    "\n",
    "def train(model, x, y) :\n",
    "    model.fit(x,y)\n",
    "\n",
    "def test(model, xtest,ytest) :\n",
    "    predictions = model.predict(xtest)\n",
    "    model_rmse = rmse(ytest, predictions)\n",
    "    return model_rmse"
   ]
  },
  {
   "cell_type": "code",
   "execution_count": 20,
   "metadata": {},
   "outputs": [
    {
     "name": "stdout",
     "output_type": "stream",
     "text": [
      "Linear regression\n",
      "train rmse:  8.914367920471367\n",
      "test rmse:  8.2788288681249\n",
      "훈련 세트의 정확도 : 0.58\n",
      "테스트 세트의 정확도 : 0.57\n",
      "----------------------------------------------------\n",
      "After Feature Engineering\n",
      "train rmse:  8.00396791186868\n",
      "test rmse:  7.720009795061545\n",
      "훈련 세트의 정확도 : 0.66\n",
      "테스트 세트의 정확도 : 0.63\n"
     ]
    }
   ],
   "source": [
    "from sklearn.linear_model import LinearRegression\n",
    "\n",
    "reg = LinearRegression()\n",
    "train(reg, train_x, train_y)\n",
    "\n",
    "li_err1 = test(reg, train_x, train_y)\n",
    "print(\"Linear regression\")\n",
    "print(\"train rmse: \", li_err1)\n",
    "\n",
    "li_err2 = test(reg, test_x, test_y)\n",
    "print(\"test rmse: \", li_err2)\n",
    "\n",
    "print(\"훈련 세트의 정확도 : {:.2f}\".format(reg.score(train_x,train_y)))\n",
    "print(\"테스트 세트의 정확도 : {:.2f}\".format(reg.score(test_x,test_y)))\n",
    "\n",
    "print(\"----------------------------------------------------\")\n",
    "\n",
    "reg = LinearRegression()\n",
    "train(reg, train_xfe, train_yfe)\n",
    "\n",
    "li_err1fe = test(reg, train_xfe, train_yfe)\n",
    "print(\"After Feature Engineering\")\n",
    "print(\"train rmse: \", li_err1fe)\n",
    "\n",
    "li_err2fe = test(reg, test_xfe, test_yfe)\n",
    "print(\"test rmse: \", li_err2fe)\n",
    "\n",
    "print(\"훈련 세트의 정확도 : {:.2f}\".format(reg.score(train_xfe,train_yfe)))\n",
    "print(\"테스트 세트의 정확도 : {:.2f}\".format(reg.score(test_xfe,test_yfe)))"
   ]
  },
  {
   "cell_type": "code",
   "execution_count": 60,
   "metadata": {},
   "outputs": [
    {
     "name": "stdout",
     "output_type": "stream",
     "text": [
      "Ridge regression\n",
      "train rmse:  9.167205116352028\n",
      "test rmse:  8.57800346930125\n",
      "훈련 세트의 정확도 : 0.56\n",
      "테스트 세트의 정확도 : 0.54\n",
      "----------------------------------------------------\n",
      "After Feature Engineering\n",
      "train rmse:  8.240469692563407\n",
      "test rmse:  7.726204689648041\n",
      "훈련 세트의 정확도 : 0.64\n",
      "테스트 세트의 정확도 : 0.63\n"
     ]
    }
   ],
   "source": [
    "from sklearn.linear_model import Ridge\n",
    "\n",
    "reg = Ridge(alpha=al)\n",
    "train(reg, train_x, train_y)\n",
    "\n",
    "rd_err1 = test(reg, train_x, train_y)\n",
    "print(\"Ridge regression\")\n",
    "print(\"train rmse: \", rd_err1)\n",
    "\n",
    "rd_err2 = test(reg, test_x, test_y)\n",
    "print(\"test rmse: \", rd_err2)\n",
    "\n",
    "print(\"훈련 세트의 정확도 : {:.2f}\".format(reg.score(train_x,train_y)))\n",
    "print(\"테스트 세트의 정확도 : {:.2f}\".format(reg.score(test_x,test_y)))\n",
    "\n",
    "print(\"----------------------------------------------------\")\n",
    "\n",
    "reg = LinearRegression()\n",
    "train(reg, train_xfe, train_yfe)\n",
    "\n",
    "rd_err1fe = test(reg, train_xfe, train_yfe)\n",
    "print(\"After Feature Engineering\")\n",
    "print(\"train rmse: \", rd_err1fe)\n",
    "\n",
    "rd_err2fe = test(reg, test_xfe, test_yfe)\n",
    "print(\"test rmse: \", rd_err2fe)\n",
    "\n",
    "print(\"훈련 세트의 정확도 : {:.2f}\".format(reg.score(train_xfe,train_yfe)))\n",
    "print(\"테스트 세트의 정확도 : {:.2f}\".format(reg.score(test_xfe,test_yfe)))"
   ]
  },
  {
   "cell_type": "code",
   "execution_count": 19,
   "metadata": {},
   "outputs": [
    {
     "name": "stdout",
     "output_type": "stream",
     "text": [
      "Lasso regression\n",
      "train rmse:  9.349533957674826\n",
      "test rmse:  8.659465886654859\n",
      "훈련 세트의 정확도 : 0.54\n",
      "테스트 세트의 정확도 : 0.53\n",
      "----------------------------------------------------\n",
      "Lasso regression\n",
      "train rmse:  8.926993354358647\n",
      "test rmse:  8.626529314631908\n",
      "훈련 세트의 정확도 : 0.58\n",
      "테스트 세트의 정확도 : 0.54\n"
     ]
    }
   ],
   "source": [
    "from sklearn.linear_model import Lasso\n",
    "\n",
    "reg = Lasso(alpha=al)\n",
    "train(reg, train_x, train_y)\n",
    "\n",
    "las_err1 = test(reg, train_x, train_y)\n",
    "print(\"Lasso regression\")\n",
    "print(\"train rmse: \", las_err1)\n",
    "\n",
    "las_err2 = test(reg, test_x, test_y)\n",
    "print(\"test rmse: \", las_err2)\n",
    "\n",
    "print(\"훈련 세트의 정확도 : {:.2f}\".format(reg.score(train_x,train_y)))\n",
    "print(\"테스트 세트의 정확도 : {:.2f}\".format(reg.score(test_x,test_y)))\n",
    "\n",
    "print(\"----------------------------------------------------\")\n",
    "reg = Lasso(alpha=al)\n",
    "train(reg, train_xfe, train_yfe)\n",
    "\n",
    "las_err1fe = test(reg, train_xfe, train_yfe)\n",
    "print(\"Lasso regression\")\n",
    "print(\"train rmse: \", las_err1fe)\n",
    "\n",
    "las_err2fe = test(reg, test_xfe, test_yfe)\n",
    "print(\"test rmse: \", las_err2fe)\n",
    "\n",
    "print(\"훈련 세트의 정확도 : {:.2f}\".format(reg.score(train_xfe,train_yfe)))\n",
    "print(\"테스트 세트의 정확도 : {:.2f}\".format(reg.score(test_xfe,test_yfe)))"
   ]
  },
  {
   "cell_type": "code",
   "execution_count": 9,
   "metadata": {},
   "outputs": [
    {
     "name": "stdout",
     "output_type": "stream",
     "text": [
      "Elastic regression\n",
      "train rmse:  9.350920774619706\n",
      "test rmse:  8.65722091949169\n",
      "훈련 세트의 정확도 : 0.54\n",
      "테스트 세트의 정확도 : 0.53\n"
     ]
    }
   ],
   "source": [
    "from sklearn.linear_model import ElasticNet\n",
    "\n",
    "reg = ElasticNet(alpha=al)\n",
    "train(reg)\n",
    "\n",
    "ela_err1 = test(reg, train_x, train_y)\n",
    "print(\"Elastic regression\")\n",
    "print(\"train rmse: \", ela_err1)\n",
    "\n",
    "ela_err2 = test(reg, test_x, test_y)\n",
    "print(\"test rmse: \", ela_err2)\n",
    "\n",
    "print(\"훈련 세트의 정확도 : {:.2f}\".format(reg.score(train_x,train_y)))\n",
    "print(\"테스트 세트의 정확도 : {:.2f}\".format(reg.score(test_x,test_y)))"
   ]
  },
  {
   "cell_type": "code",
   "execution_count": 73,
   "metadata": {},
   "outputs": [
    {
     "name": "stdout",
     "output_type": "stream",
     "text": [
      "Kernel Ridge regression\n",
      "train rmse:  9.293223825336291\n",
      "test rmse:  8.659820456765202\n",
      "훈련 세트의 정확도 : 0.54\n",
      "테스트 세트의 정확도 : 0.53\n",
      "-------------------------------------\n",
      "Kernel Ridge regression\n",
      "train rmse:  8.458713515229686\n",
      "test rmse:  8.205324134677939\n",
      "훈련 세트의 정확도 : 0.62\n",
      "테스트 세트의 정확도 : 0.58\n"
     ]
    }
   ],
   "source": [
    "from sklearn.kernel_ridge import KernelRidge\n",
    "\n",
    "reg = KernelRidge(alpha=al)\n",
    "train(reg, train_x, train_y)\n",
    "\n",
    "krd_err1 = test(reg, train_x, train_y)\n",
    "print(\"Kernel Ridge regression\")\n",
    "print(\"train rmse: \", krd_err1)\n",
    "\n",
    "krd_err2 = test(reg, test_x, test_y)\n",
    "print(\"test rmse: \", krd_err2)\n",
    "\n",
    "print(\"훈련 세트의 정확도 : {:.2f}\".format(reg.score(train_x,train_y)))\n",
    "print(\"테스트 세트의 정확도 : {:.2f}\".format(reg.score(test_x,test_y)))\n",
    "\n",
    "print(\"-------------------------------------\")\n",
    "\n",
    "reg = KernelRidge(alpha=al)\n",
    "train(reg, train_xfe, train_yfe)\n",
    "\n",
    "krd_err1fe = test(reg, train_xfe, train_yfe)\n",
    "print(\"Kernel Ridge regression\")\n",
    "print(\"train rmse: \", krd_err1fe)\n",
    "\n",
    "krd_err2fe = test(reg, test_xfe, test_yfe)\n",
    "print(\"test rmse: \", krd_err2fe)\n",
    "\n",
    "print(\"훈련 세트의 정확도 : {:.2f}\".format(reg.score(train_xfe,train_yfe)))\n",
    "print(\"테스트 세트의 정확도 : {:.2f}\".format(reg.score(test_xfe,test_yfe)))\n"
   ]
  },
  {
   "cell_type": "code",
   "execution_count": 72,
   "metadata": {},
   "outputs": [
    {
     "name": "stdout",
     "output_type": "stream",
     "text": [
      "[LibSVM]Support Vector regression\n",
      "train rmse:  12.021593264629933\n",
      "test rmse:  11.478704055615333\n",
      "훈련 세트의 정확도 : 0.23\n",
      "테스트 세트의 정확도 : 0.18\n",
      "--------------------------------------\n",
      "[LibSVM]Support Vector regression\n",
      "train rmse:  9.709857860504574\n",
      "test rmse:  9.4587358736473\n",
      "훈련 세트의 정확도 : 0.50\n",
      "테스트 세트의 정확도 : 0.44\n"
     ]
    }
   ],
   "source": [
    "from sklearn.svm import SVR\n",
    "\n",
    "reg = SVR(gamma=0.1,verbose=True)\n",
    "reg.fit(train_x, train_y)\n",
    "\n",
    "svr_err1 = test(reg, train_x, train_y)\n",
    "print(\"Support Vector regression\")\n",
    "print(\"train rmse: \", svr_err1)\n",
    "\n",
    "svr_err2 = test(reg, test_x, test_y)\n",
    "print(\"test rmse: \", svr_err2)\n",
    "\n",
    "print(\"훈련 세트의 정확도 : {:.2f}\".format(reg.score(train_x,train_y)))\n",
    "print(\"테스트 세트의 정확도 : {:.2f}\".format(reg.score(test_x,test_y)))\n",
    "\n",
    "print(\"--------------------------------------\")\n",
    "reg = SVR(gamma=0.1,verbose=True)\n",
    "reg.fit(train_xfe, train_yfe)\n",
    "\n",
    "svr_err1fe = test(reg, train_xfe, train_yfe)\n",
    "print(\"Support Vector regression\")\n",
    "print(\"train rmse: \", svr_err1fe)\n",
    "\n",
    "svr_err2fe = test(reg, test_xfe, test_yfe)\n",
    "print(\"test rmse: \", svr_err2fe)\n",
    "\n",
    "print(\"훈련 세트의 정확도 : {:.2f}\".format(reg.score(train_xfe,train_yfe)))\n",
    "print(\"테스트 세트의 정확도 : {:.2f}\".format(reg.score(test_xfe,test_yfe)))\n",
    "\n",
    "#PCA 자체는 큰 영향력이 없음\n",
    "#영향력은 Temperature과 X3의 Normalize, X1,X2를 제거 할 경우, gamma 0.1설정."
   ]
  },
  {
   "cell_type": "code",
   "execution_count": 11,
   "metadata": {},
   "outputs": [
    {
     "name": "stdout",
     "output_type": "stream",
     "text": [
      "Support Vector regression\n",
      "train rmse:  9.338558200292706\n",
      "test rmse:  8.677350540684312\n",
      "훈련 세트의 정확도 : 0.54\n",
      "테스트 세트의 정확도 : 0.53\n",
      "--------------------------------------\n",
      "Support Vector regression\n",
      "train rmse:  8.841899387190264\n",
      "test rmse:  8.58089585906901\n",
      "훈련 세트의 정확도 : 0.59\n",
      "테스트 세트의 정확도 : 0.54\n"
     ]
    }
   ],
   "source": [
    "from sklearn.gaussian_process import GaussianProcessRegressor\n",
    "from sklearn.gaussian_process.kernels import DotProduct, WhiteKernel\n",
    "\n",
    "#kernel = DotProduct() + WhiteKernel()\n",
    "reg = GaussianProcessRegressor(kernel=kernel, random_state=0)\n",
    "reg.fit(train_x, train_y)\n",
    "\n",
    "gpr_err1 = test(reg, train_x, train_y)\n",
    "print(\"Support Vector regression\")\n",
    "print(\"train rmse: \", gpr_err1)\n",
    "\n",
    "gpr_err2 = test(reg, test_x, test_y)\n",
    "print(\"test rmse: \", gpr_err2)\n",
    "\n",
    "print(\"훈련 세트의 정확도 : {:.2f}\".format(reg.score(train_x,train_y)))\n",
    "print(\"테스트 세트의 정확도 : {:.2f}\".format(reg.score(test_x,test_y)))\n",
    "\n",
    "print(\"--------------------------------------\")\n",
    "reg = GaussianProcessRegressor(kernel=kernel, random_state=0)\n",
    "reg.fit(train_xfe, train_yfe)\n",
    "\n",
    "gpr_err1fe = test(reg, train_xfe, train_yfe)\n",
    "print(\"Support Vector regression\")\n",
    "print(\"train rmse: \", gpr_err1fe)\n",
    "\n",
    "gpr_err2fe = test(reg, test_xfe, test_yfe)\n",
    "print(\"test rmse: \", gpr_err2fe)\n",
    "\n",
    "print(\"훈련 세트의 정확도 : {:.2f}\".format(reg.score(train_xfe,train_yfe)))\n",
    "print(\"테스트 세트의 정확도 : {:.2f}\".format(reg.score(test_xfe,test_yfe)))"
   ]
  },
  {
   "cell_type": "code",
   "execution_count": 66,
   "metadata": {},
   "outputs": [
    {
     "name": "stdout",
     "output_type": "stream",
     "text": [
      "Random Forest regression\n",
      "train rmse:  2.8961191301049\n",
      "test rmse:  6.365712770294385\n",
      "훈련 세트의 정확도 : 0.96\n",
      "테스트 세트의 정확도 : 0.75\n",
      "-----------------------------------------------------\n",
      "Random Forest regression\n",
      "train rmse:  3.0988524241333386\n",
      "test rmse:  6.5366874582024534\n",
      "훈련 세트의 정확도 : 0.95\n",
      "테스트 세트의 정확도 : 0.73\n"
     ]
    }
   ],
   "source": [
    "from sklearn.ensemble import RandomForestRegressor\n",
    "\n",
    "reg = RandomForestRegressor(random_state=42)\n",
    "train(reg, train_x, train_y)\n",
    "\n",
    "rf_err1 = test(reg, train_x, train_y)\n",
    "print(\"Random Forest regression\")\n",
    "print(\"train rmse: \", rf_err1)\n",
    "\n",
    "rf_err2 = test(reg, test_x, test_y)\n",
    "print(\"test rmse: \", rf_err2)\n",
    "\n",
    "print(\"훈련 세트의 정확도 : {:.2f}\".format(reg.score(train_x,train_y)))\n",
    "print(\"테스트 세트의 정확도 : {:.2f}\".format(reg.score(test_x,test_y)))\n",
    "\n",
    "print(\"-----------------------------------------------------\")\n",
    "\n",
    "reg = RandomForestRegressor(random_state=42)\n",
    "train(reg, train_xfe, train_yfe)\n",
    "\n",
    "rf_err1fe = test(reg, train_xfe, train_yfe)\n",
    "print(\"Random Forest regression\")\n",
    "print(\"train rmse: \", rf_err1fe)\n",
    "\n",
    "rf_err2fe = test(reg, test_xfe, test_yfe)\n",
    "print(\"test rmse: \", rf_err2fe)\n",
    "\n",
    "print(\"훈련 세트의 정확도 : {:.2f}\".format(reg.score(train_xfe,train_yfe)))\n",
    "print(\"테스트 세트의 정확도 : {:.2f}\".format(reg.score(test_xfe,test_yfe)))"
   ]
  },
  {
   "cell_type": "code",
   "execution_count": 42,
   "metadata": {},
   "outputs": [
    {
     "data": {
      "text/html": [
       "<div>\n",
       "<style scoped>\n",
       "    .dataframe tbody tr th:only-of-type {\n",
       "        vertical-align: middle;\n",
       "    }\n",
       "\n",
       "    .dataframe tbody tr th {\n",
       "        vertical-align: top;\n",
       "    }\n",
       "\n",
       "    .dataframe thead th {\n",
       "        text-align: right;\n",
       "    }\n",
       "</style>\n",
       "<table border=\"1\" class=\"dataframe\">\n",
       "  <thead>\n",
       "    <tr style=\"text-align: right;\">\n",
       "      <th></th>\n",
       "      <th>X2 house age</th>\n",
       "      <th>X3 distance to the nearest MRT station</th>\n",
       "      <th>X4 number of convenience stores</th>\n",
       "      <th>X5 latitude</th>\n",
       "      <th>X6 longitude</th>\n",
       "      <th>Y house price of unit area</th>\n",
       "      <th>temperature</th>\n",
       "    </tr>\n",
       "  </thead>\n",
       "  <tbody>\n",
       "    <tr>\n",
       "      <th>0</th>\n",
       "      <td>32.0</td>\n",
       "      <td>4.452937</td>\n",
       "      <td>10</td>\n",
       "      <td>24.98298</td>\n",
       "      <td>121.54024</td>\n",
       "      <td>37.9</td>\n",
       "      <td>30.76</td>\n",
       "    </tr>\n",
       "    <tr>\n",
       "      <th>1</th>\n",
       "      <td>19.5</td>\n",
       "      <td>5.728783</td>\n",
       "      <td>9</td>\n",
       "      <td>24.98034</td>\n",
       "      <td>121.53951</td>\n",
       "      <td>42.2</td>\n",
       "      <td>30.76</td>\n",
       "    </tr>\n",
       "    <tr>\n",
       "      <th>2</th>\n",
       "      <td>13.3</td>\n",
       "      <td>6.333252</td>\n",
       "      <td>5</td>\n",
       "      <td>24.98746</td>\n",
       "      <td>121.54391</td>\n",
       "      <td>47.3</td>\n",
       "      <td>30.77</td>\n",
       "    </tr>\n",
       "    <tr>\n",
       "      <th>3</th>\n",
       "      <td>13.3</td>\n",
       "      <td>6.333252</td>\n",
       "      <td>5</td>\n",
       "      <td>24.98746</td>\n",
       "      <td>121.54391</td>\n",
       "      <td>54.8</td>\n",
       "      <td>30.77</td>\n",
       "    </tr>\n",
       "    <tr>\n",
       "      <th>4</th>\n",
       "      <td>5.0</td>\n",
       "      <td>5.970160</td>\n",
       "      <td>5</td>\n",
       "      <td>24.97937</td>\n",
       "      <td>121.54245</td>\n",
       "      <td>43.1</td>\n",
       "      <td>30.76</td>\n",
       "    </tr>\n",
       "    <tr>\n",
       "      <th>...</th>\n",
       "      <td>...</td>\n",
       "      <td>...</td>\n",
       "      <td>...</td>\n",
       "      <td>...</td>\n",
       "      <td>...</td>\n",
       "      <td>...</td>\n",
       "      <td>...</td>\n",
       "    </tr>\n",
       "    <tr>\n",
       "      <th>409</th>\n",
       "      <td>13.7</td>\n",
       "      <td>8.314591</td>\n",
       "      <td>0</td>\n",
       "      <td>24.94155</td>\n",
       "      <td>121.50381</td>\n",
       "      <td>15.4</td>\n",
       "      <td>30.08</td>\n",
       "    </tr>\n",
       "    <tr>\n",
       "      <th>410</th>\n",
       "      <td>5.6</td>\n",
       "      <td>4.515859</td>\n",
       "      <td>9</td>\n",
       "      <td>24.97433</td>\n",
       "      <td>121.54310</td>\n",
       "      <td>50.0</td>\n",
       "      <td>30.25</td>\n",
       "    </tr>\n",
       "    <tr>\n",
       "      <th>411</th>\n",
       "      <td>18.8</td>\n",
       "      <td>5.971184</td>\n",
       "      <td>7</td>\n",
       "      <td>24.97923</td>\n",
       "      <td>121.53986</td>\n",
       "      <td>40.6</td>\n",
       "      <td>30.76</td>\n",
       "    </tr>\n",
       "    <tr>\n",
       "      <th>412</th>\n",
       "      <td>8.1</td>\n",
       "      <td>4.661646</td>\n",
       "      <td>5</td>\n",
       "      <td>24.96674</td>\n",
       "      <td>121.54067</td>\n",
       "      <td>52.5</td>\n",
       "      <td>30.25</td>\n",
       "    </tr>\n",
       "    <tr>\n",
       "      <th>413</th>\n",
       "      <td>6.5</td>\n",
       "      <td>4.515859</td>\n",
       "      <td>9</td>\n",
       "      <td>24.97433</td>\n",
       "      <td>121.54310</td>\n",
       "      <td>63.9</td>\n",
       "      <td>30.25</td>\n",
       "    </tr>\n",
       "  </tbody>\n",
       "</table>\n",
       "<p>414 rows × 7 columns</p>\n",
       "</div>"
      ],
      "text/plain": [
       "     X2 house age  X3 distance to the nearest MRT station  \\\n",
       "0            32.0                                4.452937   \n",
       "1            19.5                                5.728783   \n",
       "2            13.3                                6.333252   \n",
       "3            13.3                                6.333252   \n",
       "4             5.0                                5.970160   \n",
       "..            ...                                     ...   \n",
       "409          13.7                                8.314591   \n",
       "410           5.6                                4.515859   \n",
       "411          18.8                                5.971184   \n",
       "412           8.1                                4.661646   \n",
       "413           6.5                                4.515859   \n",
       "\n",
       "     X4 number of convenience stores  X5 latitude  X6 longitude  \\\n",
       "0                                 10     24.98298     121.54024   \n",
       "1                                  9     24.98034     121.53951   \n",
       "2                                  5     24.98746     121.54391   \n",
       "3                                  5     24.98746     121.54391   \n",
       "4                                  5     24.97937     121.54245   \n",
       "..                               ...          ...           ...   \n",
       "409                                0     24.94155     121.50381   \n",
       "410                                9     24.97433     121.54310   \n",
       "411                                7     24.97923     121.53986   \n",
       "412                                5     24.96674     121.54067   \n",
       "413                                9     24.97433     121.54310   \n",
       "\n",
       "     Y house price of unit area  temperature  \n",
       "0                          37.9        30.76  \n",
       "1                          42.2        30.76  \n",
       "2                          47.3        30.77  \n",
       "3                          54.8        30.77  \n",
       "4                          43.1        30.76  \n",
       "..                          ...          ...  \n",
       "409                        15.4        30.08  \n",
       "410                        50.0        30.25  \n",
       "411                        40.6        30.76  \n",
       "412                        52.5        30.25  \n",
       "413                        63.9        30.25  \n",
       "\n",
       "[414 rows x 7 columns]"
      ]
     },
     "execution_count": 42,
     "metadata": {},
     "output_type": "execute_result"
    }
   ],
   "source": [
    "FE_data"
   ]
  },
  {
   "cell_type": "code",
   "execution_count": 17,
   "metadata": {},
   "outputs": [
    {
     "name": "stdout",
     "output_type": "stream",
     "text": [
      "Decision Tree regression\n",
      "train rmse:  0.45391882101594716\n",
      "test rmse:  9.102404356006218\n",
      "훈련 세트의 정확도 : 1.00\n",
      "테스트 세트의 정확도 : 0.48\n",
      "-------------------------------------------------\n",
      "Decision Tree regression\n",
      "train rmse:  0.45391882101594716\n",
      "test rmse:  8.416451546020214\n",
      "훈련 세트의 정확도 : 1.00\n",
      "테스트 세트의 정확도 : 0.56\n"
     ]
    }
   ],
   "source": [
    "from sklearn.tree import DecisionTreeRegressor\n",
    "\n",
    "reg = DecisionTreeRegressor()\n",
    "train(reg,train_x, train_y)\n",
    "\n",
    "dt_err1 = test(reg, train_x, train_y)\n",
    "print(\"Decision Tree regression\")\n",
    "print(\"train rmse: \", dt_err1)\n",
    "\n",
    "dt_err2 = test(reg, test_x, test_y)\n",
    "print(\"test rmse: \", dt_err2)\n",
    "\n",
    "print(\"훈련 세트의 정확도 : {:.2f}\".format(reg.score(train_x,train_y)))\n",
    "print(\"테스트 세트의 정확도 : {:.2f}\".format(reg.score(test_x,test_y)))\n",
    "\n",
    "print(\"-------------------------------------------------\")\n",
    "\n",
    "reg = DecisionTreeRegressor()\n",
    "train(reg, train_xfe, train_yfe)\n",
    "\n",
    "dt_err1fe = test(reg, train_xfe, train_yfe)\n",
    "print(\"Decision Tree regression\")\n",
    "print(\"train rmse: \", dt_err1fe)\n",
    "\n",
    "dt_err2fe = test(reg, test_xfe, test_yfe)\n",
    "print(\"test rmse: \", dt_err2fe)\n",
    "\n",
    "print(\"훈련 세트의 정확도 : {:.2f}\".format(reg.score(train_xfe,train_yfe)))\n",
    "print(\"테스트 세트의 정확도 : {:.2f}\".format(reg.score(test_xfe,test_yfe)))"
   ]
  },
  {
   "cell_type": "code",
   "execution_count": 68,
   "metadata": {},
   "outputs": [
    {
     "name": "stdout",
     "output_type": "stream",
     "text": [
      "KNN regression\n",
      "train rmse:  7.399837600170398\n",
      "test rmse:  6.9896323107412055\n",
      "훈련 세트의 정확도 : 0.71\n",
      "테스트 세트의 정확도 : 0.70\n",
      "-------------------------------------------------\n",
      "KNN regression\n",
      "train rmse:  7.741464021079021\n",
      "test rmse:  8.073471813403488\n",
      "훈련 세트의 정확도 : 0.68\n",
      "테스트 세트의 정확도 : 0.59\n"
     ]
    }
   ],
   "source": [
    "from sklearn.neighbors import KNeighborsRegressor\n",
    "\n",
    "reg = KNeighborsRegressor(n_neighbors=6)\n",
    "train(reg,train_x, train_y)\n",
    "\n",
    "knb_err1 = test(reg, train_x, train_y)\n",
    "print(\"KNN regression\")\n",
    "print(\"train rmse: \", knb_err1)\n",
    "\n",
    "knb_err2 = test(reg, test_x, test_y)\n",
    "print(\"test rmse: \", knb_err2)\n",
    "\n",
    "print(\"훈련 세트의 정확도 : {:.2f}\".format(reg.score(train_x,train_y)))\n",
    "print(\"테스트 세트의 정확도 : {:.2f}\".format(reg.score(test_x,test_y)))\n",
    "\n",
    "print('-------------------------------------------------')\n",
    "\n",
    "reg = KNeighborsRegressor(n_neighbors=6)\n",
    "train(reg,train_xfe, train_yfe)\n",
    "\n",
    "knb_err1fe = test(reg, train_xfe, train_yfe)\n",
    "print(\"KNN regression\")\n",
    "print(\"train rmse: \", knb_err1fe)\n",
    "\n",
    "knb_err2fe = test(reg, test_xfe, test_yfe)\n",
    "print(\"test rmse: \", knb_err2fe)\n",
    "\n",
    "print(\"훈련 세트의 정확도 : {:.2f}\".format(reg.score(train_xfe,train_yfe)))\n",
    "print(\"테스트 세트의 정확도 : {:.2f}\".format(reg.score(test_xfe,test_yfe)))"
   ]
  },
  {
   "cell_type": "code",
   "execution_count": 15,
   "metadata": {},
   "outputs": [
    {
     "data": {
      "image/png": "[encoded data removed]",
      "text/plain": [
       "<Figure size 720x720 with 1 Axes>"
      ]
     },
     "metadata": {},
     "output_type": "display_data"
    }
   ],
   "source": [
    "\n",
    "figsize(10,10)\n",
    "\n",
    "plt.style.use(\"ggplot\")\n",
    "model_comparison = pd.DataFrame({\"model name\":[\"Ridge regression\", \"Lasso regression\", \"ElasticNet\", \"Kernel Ridge\",\n",
    "                                               \"suport vector machine\", \"Random forest\",\"decision tree\",\n",
    "                                               \"k nearest neighbor\"],\n",
    "                                \"rsme_train\": [rd_err1, las_err1, ela_err1, krd_err1, svr_err1, rf_err1, dt_err1, knb_err1]})\n",
    "model_comparison = model_comparison.sort_values(\"rsme_train\", ascending=False).plot(x=\"model name\", y=\"rsme_train\", color=\"red\", kind=\"barh\")"
   ]
  },
  {
   "cell_type": "code",
   "execution_count": 16,
   "metadata": {},
   "outputs": [
    {
     "data": {
      "image/png": "[encoded data removed]",
      "text/plain": [
       "<Figure size 720x720 with 1 Axes>"
      ]
     },
     "metadata": {},
     "output_type": "display_data"
    }
   ],
   "source": [
    "\n",
    "figsize(10,10)\n",
    "\n",
    "plt.style.use(\"ggplot\")\n",
    "model_comparison = pd.DataFrame({\n",
    "    \"model name\":[\"Ridge regression\", \"Lasso regression\", \"ElasticNet\", \n",
    "                  \"Kernel Ridge\", \"suport vector machine\", \n",
    "                  \"Random forest\",\"decision tree\",\"k nearest neighbor\"],\n",
    "    \"rsme_test\": [rd_err2, las_err2, ela_err2, krd_err2, svr_err2, rf_err2, dt_err2, knb_err2]})\n",
    "model_comparison = model_comparison.sort_values(\"rsme_test\", ascending=False).plot(x=\"model name\", y=\"rsme_test\", color=\"red\", kind=\"barh\")"
   ]
  },
  {
   "cell_type": "markdown",
   "metadata": {},
   "source": []
  },
  {
   "cell_type": "code",
   "execution_count": null,
   "metadata": {},
   "outputs": [],
   "source": []
  }
 ],
 "metadata": {
  "kernelspec": {
   "display_name": "Python 3",
   "language": "python",
   "name": "python3"
  },
  "language_info": {
   "codemirror_mode": {
    "name": "ipython",
    "version": 3
   },
   "file_extension": ".py",
   "mimetype": "text/x-python",
   "name": "python",
   "nbconvert_exporter": "python",
   "pygments_lexer": "ipython3",
   "version": "3.5.6"
  }
 },
 "nbformat": 4,
 "nbformat_minor": 2
}
